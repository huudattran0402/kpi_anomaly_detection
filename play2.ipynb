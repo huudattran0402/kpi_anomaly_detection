{
 "cells": [
  {
   "cell_type": "markdown",
   "metadata": {},
   "source": [
    "# Load Data"
   ]
  },
  {
   "cell_type": "code",
   "execution_count": 1,
   "metadata": {},
   "outputs": [],
   "source": [
    "import pandas as pd\n",
    "pd.set_option('display.max_colwidth', None)\n",
    "import numpy as np\n",
    "import sys\n",
    "np.set_printoptions(threshold=sys.maxsize)\n",
    "from CellPAD.evaluator import evaluate\n",
    "from CellPAD.controller import DropController\n",
    "from CellPAD.synthsiser import DropSynthesiser\n",
    "import pandas as pd\n",
    "import platform\n",
    "df = pd.read_csv(\"play_data/kpi_hour_ttml_from2022060100.csv\")\n",
    "df = df[[\"DATE\", \"HOUR\", \"TRAFFIC4G\", \"INIT_ERAB_SR\"]]\n",
    "end_df = df.shape[0]\n",
    "split_point = end_df - 168\n",
    "df[\"DATE\"] = pd.to_datetime(df['DATE'], format='%d/%m/%Y').dt.strftime('%Y/%m/%d')\n",
    "df[\"HOUR\"]  = df[\"HOUR\"].apply(str)\n",
    "df[\"Time\"] = df[\"DATE\"] + \" \" + df[\"HOUR\"] + \":00\"\n",
    "timestamps_train, series_train = df[\"Time\"][:split_point].values, df[\"TRAFFIC4G\"][:split_point].values\n",
    "timestamps_test, series_test = df[\"Time\"][split_point:].values, df[\"TRAFFIC4G\"][split_point:].values\n",
    "\n",
    "# data_path = \"./data/sd.csv\"\n",
    "# df = pd.read_csv(data_path)\n",
    "# split_point = df.shape[0] - 168\n",
    "# timestamps_train, series_train = df[\"Time\"][:split_point].values, df[\"KPI\"][:split_point].values\n",
    "# timestamps_test, series_test = df[\"Time\"][split_point:].values, df[\"KPI\"][split_point:].values\n",
    "# inject anomalies\n",
    "syner = DropSynthesiser(raw_series=series_train, period_len=168)\n",
    "syn_series, syn_labels = syner.syn_drop()\n",
    "\n",
    "# detect drop\n",
    "controller = DropController(timestamps=timestamps_train,\n",
    "                            series=syn_series,\n",
    "                            period_len=168,\n",
    "                            feature_types=[\"Indexical\", \"Numerical\"],\n",
    "                            feature_time_grain=[\"Weekly\"],\n",
    "                            feature_operations=[\"Wma\", \"Ewma\", \"Mean\", \"Median\"],\n",
    "                            bootstrap_period_cnt=2,\n",
    "                            to_remove_trend=True,\n",
    "                            trend_remove_method=\"center_mean\",\n",
    "                            anomaly_filter_method=\"gauss\",\n",
    "                            anomaly_filter_coefficient=3.0)\n",
    "controller.detect(predictor=\"RF\")\n",
    "results = controller.get_results()\n",
    "\n",
    "auc, prauc = evaluate(results[\"drop_scores\"][2*168:], syn_labels[2*168:])\n",
    "\n",
    "from model import evaluate_regression_model \n",
    "\n",
    "model = controller.get_model()\n",
    "dict_storage = controller.get_dict_storage()\n",
    "end = dict_storage[\"normal_features_matrix\"].shape[0]\n",
    "start = end - 168*10\n",
    "X_test = dict_storage[\"normal_features_matrix\"][start:]\n",
    "y_test = dict_storage[\"normal_response_series\"][start:]\n",
    "\n",
    "dict = evaluate_regression_model(model, X_test, y_test)\n",
    "dict"
   ]
  },
  {
   "cell_type": "markdown",
   "metadata": {},
   "source": [
    "# Test the model with test data"
   ]
  },
  {
   "cell_type": "code",
   "execution_count": 5,
   "metadata": {},
   "outputs": [],
   "source": [
    "from model import build_model\n",
    "\n",
    "test_timestamps, test_series = df[\"Time\"].values, df[\"TRAFFIC4G\"].values\n",
    "test_model, test_metrics, test_features = build_model(test_timestamps, test_series, True)"
   ]
  },
  {
   "cell_type": "code",
   "execution_count": 29,
   "metadata": {},
   "outputs": [
    {
     "data": {
      "text/plain": [
       "{'r2_score': 0.8425570224738905,\n",
       " 'mean_squared_error': 0.030486416850683578,\n",
       " 'Mean_absolute_error': 0.10958298776694726}"
      ]
     },
     "execution_count": 29,
     "metadata": {},
     "output_type": "execute_result"
    }
   ],
   "source": [
    "from CellPAD.preprocessor import Preprocessor \n",
    "preprocessor = Preprocessor()\n",
    "\n",
    "#split_point = end of array - 168\n",
    "X_test1 = test_features[split_point:]\n",
    "y_test1 = preprocessor.remove_trend(test_series[split_point:], 168, method=\"past_mean\")\n",
    "evaluate_regression_model(model,X_test1, y_test1)"
   ]
  },
  {
   "cell_type": "code",
   "execution_count": null,
   "metadata": {},
   "outputs": [],
   "source": []
  },
  {
   "cell_type": "code",
   "execution_count": null,
   "metadata": {},
   "outputs": [],
   "source": []
  }
 ],
 "metadata": {
  "kernelspec": {
   "display_name": "Python 3.10.8 64-bit",
   "language": "python",
   "name": "python3"
  },
  "language_info": {
   "codemirror_mode": {
    "name": "ipython",
    "version": 3
   },
   "file_extension": ".py",
   "mimetype": "text/x-python",
   "name": "python",
   "nbconvert_exporter": "python",
   "pygments_lexer": "ipython3",
   "version": "3.10.8"
  },
  "orig_nbformat": 4,
  "vscode": {
   "interpreter": {
    "hash": "66f8b175471dbea7c59de0d62fd474b89b63df31e163c99d6a72b36718e1bd21"
   }
  }
 },
 "nbformat": 4,
 "nbformat_minor": 2
}
